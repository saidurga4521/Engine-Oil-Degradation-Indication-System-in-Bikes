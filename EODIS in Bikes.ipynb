{
 "cells": [
  {
   "cell_type": "code",
   "execution_count": 1,
   "id": "184f7c7a",
   "metadata": {},
   "outputs": [],
   "source": [
    "import pandas as pd"
   ]
  },
  {
   "cell_type": "code",
   "execution_count": 2,
   "id": "39766c18",
   "metadata": {},
   "outputs": [],
   "source": [
    "data=pd.read_csv('final dataset.csv')"
   ]
  },
  {
   "cell_type": "code",
   "execution_count": 29,
   "id": "9fdc55b7",
   "metadata": {},
   "outputs": [
    {
     "data": {
      "text/html": [
       "<div>\n",
       "<style scoped>\n",
       "    .dataframe tbody tr th:only-of-type {\n",
       "        vertical-align: middle;\n",
       "    }\n",
       "\n",
       "    .dataframe tbody tr th {\n",
       "        vertical-align: top;\n",
       "    }\n",
       "\n",
       "    .dataframe thead th {\n",
       "        text-align: right;\n",
       "    }\n",
       "</style>\n",
       "<table border=\"1\" class=\"dataframe\">\n",
       "  <thead>\n",
       "    <tr style=\"text-align: right;\">\n",
       "      <th></th>\n",
       "      <th>Density</th>\n",
       "      <th>Turbidity</th>\n",
       "      <th>R</th>\n",
       "      <th>G</th>\n",
       "      <th>B</th>\n",
       "      <th>Degradation level</th>\n",
       "    </tr>\n",
       "  </thead>\n",
       "  <tbody>\n",
       "    <tr>\n",
       "      <th>0</th>\n",
       "      <td>1.01</td>\n",
       "      <td>458.12</td>\n",
       "      <td>198</td>\n",
       "      <td>223</td>\n",
       "      <td>188</td>\n",
       "      <td>0.01</td>\n",
       "    </tr>\n",
       "    <tr>\n",
       "      <th>1</th>\n",
       "      <td>1.02</td>\n",
       "      <td>458.12</td>\n",
       "      <td>195</td>\n",
       "      <td>222</td>\n",
       "      <td>185</td>\n",
       "      <td>0.01</td>\n",
       "    </tr>\n",
       "    <tr>\n",
       "      <th>2</th>\n",
       "      <td>1.01</td>\n",
       "      <td>459.37</td>\n",
       "      <td>198</td>\n",
       "      <td>225</td>\n",
       "      <td>182</td>\n",
       "      <td>0.01</td>\n",
       "    </tr>\n",
       "    <tr>\n",
       "      <th>3</th>\n",
       "      <td>1.02</td>\n",
       "      <td>458.12</td>\n",
       "      <td>197</td>\n",
       "      <td>221</td>\n",
       "      <td>186</td>\n",
       "      <td>0.01</td>\n",
       "    </tr>\n",
       "    <tr>\n",
       "      <th>4</th>\n",
       "      <td>1.01</td>\n",
       "      <td>458.36</td>\n",
       "      <td>195</td>\n",
       "      <td>228</td>\n",
       "      <td>186</td>\n",
       "      <td>0.01</td>\n",
       "    </tr>\n",
       "    <tr>\n",
       "      <th>5</th>\n",
       "      <td>1.03</td>\n",
       "      <td>469.25</td>\n",
       "      <td>195</td>\n",
       "      <td>221</td>\n",
       "      <td>187</td>\n",
       "      <td>0.01</td>\n",
       "    </tr>\n",
       "    <tr>\n",
       "      <th>6</th>\n",
       "      <td>1.02</td>\n",
       "      <td>466.23</td>\n",
       "      <td>194</td>\n",
       "      <td>226</td>\n",
       "      <td>190</td>\n",
       "      <td>0.01</td>\n",
       "    </tr>\n",
       "    <tr>\n",
       "      <th>7</th>\n",
       "      <td>1.03</td>\n",
       "      <td>458.12</td>\n",
       "      <td>197</td>\n",
       "      <td>221</td>\n",
       "      <td>187</td>\n",
       "      <td>0.01</td>\n",
       "    </tr>\n",
       "    <tr>\n",
       "      <th>8</th>\n",
       "      <td>1.02</td>\n",
       "      <td>446.95</td>\n",
       "      <td>190</td>\n",
       "      <td>202</td>\n",
       "      <td>170</td>\n",
       "      <td>0.05</td>\n",
       "    </tr>\n",
       "    <tr>\n",
       "      <th>9</th>\n",
       "      <td>1.02</td>\n",
       "      <td>446.95</td>\n",
       "      <td>188</td>\n",
       "      <td>206</td>\n",
       "      <td>168</td>\n",
       "      <td>0.05</td>\n",
       "    </tr>\n",
       "    <tr>\n",
       "      <th>10</th>\n",
       "      <td>1.01</td>\n",
       "      <td>446.95</td>\n",
       "      <td>185</td>\n",
       "      <td>209</td>\n",
       "      <td>170</td>\n",
       "      <td>0.05</td>\n",
       "    </tr>\n",
       "    <tr>\n",
       "      <th>11</th>\n",
       "      <td>1.12</td>\n",
       "      <td>446.95</td>\n",
       "      <td>182</td>\n",
       "      <td>206</td>\n",
       "      <td>168</td>\n",
       "      <td>0.05</td>\n",
       "    </tr>\n",
       "    <tr>\n",
       "      <th>12</th>\n",
       "      <td>1.01</td>\n",
       "      <td>446.95</td>\n",
       "      <td>186</td>\n",
       "      <td>209</td>\n",
       "      <td>169</td>\n",
       "      <td>0.05</td>\n",
       "    </tr>\n",
       "    <tr>\n",
       "      <th>13</th>\n",
       "      <td>1.01</td>\n",
       "      <td>446.95</td>\n",
       "      <td>186</td>\n",
       "      <td>205</td>\n",
       "      <td>168</td>\n",
       "      <td>0.05</td>\n",
       "    </tr>\n",
       "    <tr>\n",
       "      <th>14</th>\n",
       "      <td>1.13</td>\n",
       "      <td>446.95</td>\n",
       "      <td>187</td>\n",
       "      <td>209</td>\n",
       "      <td>169</td>\n",
       "      <td>0.05</td>\n",
       "    </tr>\n",
       "    <tr>\n",
       "      <th>15</th>\n",
       "      <td>1.03</td>\n",
       "      <td>446.95</td>\n",
       "      <td>190</td>\n",
       "      <td>205</td>\n",
       "      <td>168</td>\n",
       "      <td>0.05</td>\n",
       "    </tr>\n",
       "    <tr>\n",
       "      <th>16</th>\n",
       "      <td>1.02</td>\n",
       "      <td>446.95</td>\n",
       "      <td>187</td>\n",
       "      <td>208</td>\n",
       "      <td>168</td>\n",
       "      <td>0.05</td>\n",
       "    </tr>\n",
       "    <tr>\n",
       "      <th>17</th>\n",
       "      <td>1.12</td>\n",
       "      <td>447.58</td>\n",
       "      <td>187</td>\n",
       "      <td>207</td>\n",
       "      <td>168</td>\n",
       "      <td>0.05</td>\n",
       "    </tr>\n",
       "    <tr>\n",
       "      <th>18</th>\n",
       "      <td>1.15</td>\n",
       "      <td>447.58</td>\n",
       "      <td>187</td>\n",
       "      <td>199</td>\n",
       "      <td>167</td>\n",
       "      <td>0.05</td>\n",
       "    </tr>\n",
       "    <tr>\n",
       "      <th>19</th>\n",
       "      <td>1.16</td>\n",
       "      <td>447.58</td>\n",
       "      <td>189</td>\n",
       "      <td>208</td>\n",
       "      <td>168</td>\n",
       "      <td>0.05</td>\n",
       "    </tr>\n",
       "    <tr>\n",
       "      <th>20</th>\n",
       "      <td>1.01</td>\n",
       "      <td>447.58</td>\n",
       "      <td>187</td>\n",
       "      <td>198</td>\n",
       "      <td>167</td>\n",
       "      <td>0.05</td>\n",
       "    </tr>\n",
       "    <tr>\n",
       "      <th>21</th>\n",
       "      <td>1.02</td>\n",
       "      <td>447.58</td>\n",
       "      <td>188</td>\n",
       "      <td>202</td>\n",
       "      <td>168</td>\n",
       "      <td>0.05</td>\n",
       "    </tr>\n",
       "    <tr>\n",
       "      <th>22</th>\n",
       "      <td>1.21</td>\n",
       "      <td>425.15</td>\n",
       "      <td>182</td>\n",
       "      <td>193</td>\n",
       "      <td>155</td>\n",
       "      <td>0.10</td>\n",
       "    </tr>\n",
       "    <tr>\n",
       "      <th>23</th>\n",
       "      <td>1.22</td>\n",
       "      <td>425.15</td>\n",
       "      <td>182</td>\n",
       "      <td>191</td>\n",
       "      <td>155</td>\n",
       "      <td>0.10</td>\n",
       "    </tr>\n",
       "    <tr>\n",
       "      <th>24</th>\n",
       "      <td>1.20</td>\n",
       "      <td>426.16</td>\n",
       "      <td>181</td>\n",
       "      <td>193</td>\n",
       "      <td>155</td>\n",
       "      <td>0.10</td>\n",
       "    </tr>\n",
       "    <tr>\n",
       "      <th>25</th>\n",
       "      <td>1.21</td>\n",
       "      <td>428.60</td>\n",
       "      <td>182</td>\n",
       "      <td>192</td>\n",
       "      <td>155</td>\n",
       "      <td>0.10</td>\n",
       "    </tr>\n",
       "    <tr>\n",
       "      <th>26</th>\n",
       "      <td>1.19</td>\n",
       "      <td>425.15</td>\n",
       "      <td>183</td>\n",
       "      <td>193</td>\n",
       "      <td>155</td>\n",
       "      <td>0.10</td>\n",
       "    </tr>\n",
       "    <tr>\n",
       "      <th>27</th>\n",
       "      <td>1.22</td>\n",
       "      <td>427.13</td>\n",
       "      <td>182</td>\n",
       "      <td>194</td>\n",
       "      <td>155</td>\n",
       "      <td>0.10</td>\n",
       "    </tr>\n",
       "    <tr>\n",
       "      <th>28</th>\n",
       "      <td>1.19</td>\n",
       "      <td>425.15</td>\n",
       "      <td>179</td>\n",
       "      <td>194</td>\n",
       "      <td>155</td>\n",
       "      <td>0.10</td>\n",
       "    </tr>\n",
       "    <tr>\n",
       "      <th>29</th>\n",
       "      <td>1.18</td>\n",
       "      <td>425.15</td>\n",
       "      <td>182</td>\n",
       "      <td>191</td>\n",
       "      <td>155</td>\n",
       "      <td>0.10</td>\n",
       "    </tr>\n",
       "    <tr>\n",
       "      <th>30</th>\n",
       "      <td>1.17</td>\n",
       "      <td>427.38</td>\n",
       "      <td>180</td>\n",
       "      <td>193</td>\n",
       "      <td>155</td>\n",
       "      <td>0.10</td>\n",
       "    </tr>\n",
       "    <tr>\n",
       "      <th>31</th>\n",
       "      <td>1.19</td>\n",
       "      <td>432.27</td>\n",
       "      <td>182</td>\n",
       "      <td>193</td>\n",
       "      <td>155</td>\n",
       "      <td>0.10</td>\n",
       "    </tr>\n",
       "    <tr>\n",
       "      <th>32</th>\n",
       "      <td>1.20</td>\n",
       "      <td>428.35</td>\n",
       "      <td>182</td>\n",
       "      <td>190</td>\n",
       "      <td>155</td>\n",
       "      <td>0.10</td>\n",
       "    </tr>\n",
       "    <tr>\n",
       "      <th>33</th>\n",
       "      <td>1.23</td>\n",
       "      <td>429.37</td>\n",
       "      <td>181</td>\n",
       "      <td>193</td>\n",
       "      <td>155</td>\n",
       "      <td>0.10</td>\n",
       "    </tr>\n",
       "    <tr>\n",
       "      <th>34</th>\n",
       "      <td>1.19</td>\n",
       "      <td>428.25</td>\n",
       "      <td>182</td>\n",
       "      <td>195</td>\n",
       "      <td>155</td>\n",
       "      <td>0.10</td>\n",
       "    </tr>\n",
       "    <tr>\n",
       "      <th>35</th>\n",
       "      <td>1.24</td>\n",
       "      <td>423.89</td>\n",
       "      <td>182</td>\n",
       "      <td>193</td>\n",
       "      <td>155</td>\n",
       "      <td>0.10</td>\n",
       "    </tr>\n",
       "    <tr>\n",
       "      <th>36</th>\n",
       "      <td>1.18</td>\n",
       "      <td>425.15</td>\n",
       "      <td>183</td>\n",
       "      <td>193</td>\n",
       "      <td>155</td>\n",
       "      <td>0.10</td>\n",
       "    </tr>\n",
       "    <tr>\n",
       "      <th>37</th>\n",
       "      <td>1.17</td>\n",
       "      <td>425.15</td>\n",
       "      <td>182</td>\n",
       "      <td>192</td>\n",
       "      <td>155</td>\n",
       "      <td>0.10</td>\n",
       "    </tr>\n",
       "    <tr>\n",
       "      <th>38</th>\n",
       "      <td>1.20</td>\n",
       "      <td>425.15</td>\n",
       "      <td>182</td>\n",
       "      <td>193</td>\n",
       "      <td>155</td>\n",
       "      <td>0.10</td>\n",
       "    </tr>\n",
       "    <tr>\n",
       "      <th>39</th>\n",
       "      <td>1.21</td>\n",
       "      <td>422.32</td>\n",
       "      <td>183</td>\n",
       "      <td>191</td>\n",
       "      <td>155</td>\n",
       "      <td>0.10</td>\n",
       "    </tr>\n",
       "    <tr>\n",
       "      <th>40</th>\n",
       "      <td>1.22</td>\n",
       "      <td>425.15</td>\n",
       "      <td>182</td>\n",
       "      <td>192</td>\n",
       "      <td>155</td>\n",
       "      <td>0.10</td>\n",
       "    </tr>\n",
       "    <tr>\n",
       "      <th>41</th>\n",
       "      <td>1.34</td>\n",
       "      <td>256.32</td>\n",
       "      <td>165</td>\n",
       "      <td>154</td>\n",
       "      <td>123</td>\n",
       "      <td>0.25</td>\n",
       "    </tr>\n",
       "    <tr>\n",
       "      <th>42</th>\n",
       "      <td>1.33</td>\n",
       "      <td>258.62</td>\n",
       "      <td>165</td>\n",
       "      <td>152</td>\n",
       "      <td>124</td>\n",
       "      <td>0.25</td>\n",
       "    </tr>\n",
       "    <tr>\n",
       "      <th>43</th>\n",
       "      <td>1.35</td>\n",
       "      <td>251.15</td>\n",
       "      <td>166</td>\n",
       "      <td>151</td>\n",
       "      <td>122</td>\n",
       "      <td>0.25</td>\n",
       "    </tr>\n",
       "    <tr>\n",
       "      <th>44</th>\n",
       "      <td>1.36</td>\n",
       "      <td>254.13</td>\n",
       "      <td>167</td>\n",
       "      <td>150</td>\n",
       "      <td>125</td>\n",
       "      <td>0.25</td>\n",
       "    </tr>\n",
       "    <tr>\n",
       "      <th>45</th>\n",
       "      <td>1.35</td>\n",
       "      <td>252.52</td>\n",
       "      <td>162</td>\n",
       "      <td>152</td>\n",
       "      <td>123</td>\n",
       "      <td>0.25</td>\n",
       "    </tr>\n",
       "    <tr>\n",
       "      <th>46</th>\n",
       "      <td>1.37</td>\n",
       "      <td>256.23</td>\n",
       "      <td>163</td>\n",
       "      <td>151</td>\n",
       "      <td>124</td>\n",
       "      <td>0.25</td>\n",
       "    </tr>\n",
       "    <tr>\n",
       "      <th>47</th>\n",
       "      <td>1.35</td>\n",
       "      <td>254.13</td>\n",
       "      <td>165</td>\n",
       "      <td>156</td>\n",
       "      <td>125</td>\n",
       "      <td>0.25</td>\n",
       "    </tr>\n",
       "    <tr>\n",
       "      <th>48</th>\n",
       "      <td>1.39</td>\n",
       "      <td>251.32</td>\n",
       "      <td>166</td>\n",
       "      <td>152</td>\n",
       "      <td>126</td>\n",
       "      <td>0.25</td>\n",
       "    </tr>\n",
       "    <tr>\n",
       "      <th>49</th>\n",
       "      <td>1.37</td>\n",
       "      <td>251.63</td>\n",
       "      <td>167</td>\n",
       "      <td>155</td>\n",
       "      <td>126</td>\n",
       "      <td>0.25</td>\n",
       "    </tr>\n",
       "  </tbody>\n",
       "</table>\n",
       "</div>"
      ],
      "text/plain": [
       "    Density  Turbidity    R    G    B  Degradation level\n",
       "0      1.01     458.12  198  223  188               0.01\n",
       "1      1.02     458.12  195  222  185               0.01\n",
       "2      1.01     459.37  198  225  182               0.01\n",
       "3      1.02     458.12  197  221  186               0.01\n",
       "4      1.01     458.36  195  228  186               0.01\n",
       "5      1.03     469.25  195  221  187               0.01\n",
       "6      1.02     466.23  194  226  190               0.01\n",
       "7      1.03     458.12  197  221  187               0.01\n",
       "8      1.02     446.95  190  202  170               0.05\n",
       "9      1.02     446.95  188  206  168               0.05\n",
       "10     1.01     446.95  185  209  170               0.05\n",
       "11     1.12     446.95  182  206  168               0.05\n",
       "12     1.01     446.95  186  209  169               0.05\n",
       "13     1.01     446.95  186  205  168               0.05\n",
       "14     1.13     446.95  187  209  169               0.05\n",
       "15     1.03     446.95  190  205  168               0.05\n",
       "16     1.02     446.95  187  208  168               0.05\n",
       "17     1.12     447.58  187  207  168               0.05\n",
       "18     1.15     447.58  187  199  167               0.05\n",
       "19     1.16     447.58  189  208  168               0.05\n",
       "20     1.01     447.58  187  198  167               0.05\n",
       "21     1.02     447.58  188  202  168               0.05\n",
       "22     1.21     425.15  182  193  155               0.10\n",
       "23     1.22     425.15  182  191  155               0.10\n",
       "24     1.20     426.16  181  193  155               0.10\n",
       "25     1.21     428.60  182  192  155               0.10\n",
       "26     1.19     425.15  183  193  155               0.10\n",
       "27     1.22     427.13  182  194  155               0.10\n",
       "28     1.19     425.15  179  194  155               0.10\n",
       "29     1.18     425.15  182  191  155               0.10\n",
       "30     1.17     427.38  180  193  155               0.10\n",
       "31     1.19     432.27  182  193  155               0.10\n",
       "32     1.20     428.35  182  190  155               0.10\n",
       "33     1.23     429.37  181  193  155               0.10\n",
       "34     1.19     428.25  182  195  155               0.10\n",
       "35     1.24     423.89  182  193  155               0.10\n",
       "36     1.18     425.15  183  193  155               0.10\n",
       "37     1.17     425.15  182  192  155               0.10\n",
       "38     1.20     425.15  182  193  155               0.10\n",
       "39     1.21     422.32  183  191  155               0.10\n",
       "40     1.22     425.15  182  192  155               0.10\n",
       "41     1.34     256.32  165  154  123               0.25\n",
       "42     1.33     258.62  165  152  124               0.25\n",
       "43     1.35     251.15  166  151  122               0.25\n",
       "44     1.36     254.13  167  150  125               0.25\n",
       "45     1.35     252.52  162  152  123               0.25\n",
       "46     1.37     256.23  163  151  124               0.25\n",
       "47     1.35     254.13  165  156  125               0.25\n",
       "48     1.39     251.32  166  152  126               0.25\n",
       "49     1.37     251.63  167  155  126               0.25"
      ]
     },
     "execution_count": 29,
     "metadata": {},
     "output_type": "execute_result"
    }
   ],
   "source": [
    "data.head(50)"
   ]
  },
  {
   "cell_type": "code",
   "execution_count": 4,
   "id": "ec9d768e",
   "metadata": {},
   "outputs": [
    {
     "data": {
      "text/plain": [
       "(157, 6)"
      ]
     },
     "execution_count": 4,
     "metadata": {},
     "output_type": "execute_result"
    }
   ],
   "source": [
    "data.shape"
   ]
  },
  {
   "cell_type": "code",
   "execution_count": 5,
   "id": "9d30d390",
   "metadata": {},
   "outputs": [
    {
     "data": {
      "text/plain": [
       "Density              0\n",
       "Turbidity            0\n",
       "R                    0\n",
       "G                    0\n",
       "B                    0\n",
       "Degradation level    0\n",
       "dtype: int64"
      ]
     },
     "execution_count": 5,
     "metadata": {},
     "output_type": "execute_result"
    }
   ],
   "source": [
    "data.isnull().sum() #no null values"
   ]
  },
  {
   "cell_type": "code",
   "execution_count": 6,
   "id": "3a142de8",
   "metadata": {},
   "outputs": [
    {
     "name": "stdout",
     "output_type": "stream",
     "text": [
      "<class 'pandas.core.frame.DataFrame'>\n",
      "RangeIndex: 157 entries, 0 to 156\n",
      "Data columns (total 6 columns):\n",
      " #   Column             Non-Null Count  Dtype  \n",
      "---  ------             --------------  -----  \n",
      " 0   Density            157 non-null    float64\n",
      " 1   Turbidity          157 non-null    float64\n",
      " 2   R                  157 non-null    int64  \n",
      " 3   G                  157 non-null    int64  \n",
      " 4   B                  157 non-null    int64  \n",
      " 5   Degradation level  157 non-null    float64\n",
      "dtypes: float64(3), int64(3)\n",
      "memory usage: 7.5 KB\n"
     ]
    }
   ],
   "source": [
    "data.info() #every column is clear"
   ]
  },
  {
   "cell_type": "code",
   "execution_count": 7,
   "id": "7948a961",
   "metadata": {},
   "outputs": [
    {
     "data": {
      "text/plain": [
       "Index(['Density', 'Turbidity', 'R', 'G', 'B', 'Degradation level'], dtype='object')"
      ]
     },
     "execution_count": 7,
     "metadata": {},
     "output_type": "execute_result"
    }
   ],
   "source": [
    "# Total columns\n",
    "data.columns    "
   ]
  },
  {
   "cell_type": "code",
   "execution_count": 8,
   "id": "f42bbea0",
   "metadata": {},
   "outputs": [
    {
     "data": {
      "image/png": "[encoded data removed]",
      "text/plain": [
       "<Figure size 640x480 with 1 Axes>"
      ]
     },
     "metadata": {},
     "output_type": "display_data"
    },
    {
     "data": {
      "image/png": "[encoded data removed]",
      "text/plain": [
       "<Figure size 640x480 with 1 Axes>"
      ]
     },
     "metadata": {},
     "output_type": "display_data"
    },
    {
     "data": {
      "image/png": "[encoded data removed]",
      "text/plain": [
       "<Figure size 640x480 with 1 Axes>"
      ]
     },
     "metadata": {},
     "output_type": "display_data"
    },
    {
     "data": {
      "image/png": "[encoded data removed]",
      "text/plain": [
       "<Figure size 640x480 with 1 Axes>"
      ]
     },
     "metadata": {},
     "output_type": "display_data"
    }
   ],
   "source": [
    "#check the distributions of data\n",
    "import seaborn as sns\n",
    "import matplotlib.pyplot as plt\n",
    "%matplotlib inline\n",
    "for column in data.columns[:4]:\n",
    "    plt.figure()\n",
    "    sns.histplot(data[column],bins=20,kde=True) #its irregular"
   ]
  },
  {
   "cell_type": "code",
   "execution_count": 9,
   "id": "037b9971",
   "metadata": {},
   "outputs": [],
   "source": [
    "X=data.iloc[:,:-1]\n",
    "Y=data.iloc[:,-1]"
   ]
  },
  {
   "cell_type": "code",
   "execution_count": 10,
   "id": "e530fc73",
   "metadata": {},
   "outputs": [
    {
     "data": {
      "text/plain": [
       "0      0.01\n",
       "1      0.01\n",
       "2      0.01\n",
       "3      0.01\n",
       "4      0.01\n",
       "       ... \n",
       "152    1.00\n",
       "153    1.00\n",
       "154    1.00\n",
       "155    1.00\n",
       "156    1.00\n",
       "Name: Degradation level, Length: 157, dtype: float64"
      ]
     },
     "execution_count": 10,
     "metadata": {},
     "output_type": "execute_result"
    }
   ],
   "source": [
    "Y"
   ]
  },
  {
   "cell_type": "markdown",
   "id": "ffbe17c1",
   "metadata": {},
   "source": [
    "- from the above graphs all are irregular"
   ]
  },
  {
   "cell_type": "code",
   "execution_count": 11,
   "id": "a7f6d5df",
   "metadata": {},
   "outputs": [],
   "source": [
    "#split the data\n",
    "# split the data into train and test\n",
    "from sklearn.model_selection import train_test_split\n",
    "x_train,x_test,y_train,y_test=train_test_split(X,Y,random_state=42,test_size=0.33)"
   ]
  },
  {
   "cell_type": "code",
   "execution_count": 12,
   "id": "c8539b19",
   "metadata": {},
   "outputs": [
    {
     "name": "stdout",
     "output_type": "stream",
     "text": [
      "(105, 5) (52, 5) (105,) (52,)\n"
     ]
    }
   ],
   "source": [
    "#print the shapes\n",
    "print(x_train.shape,x_test.shape,y_train.shape,y_test.shape)"
   ]
  },
  {
   "cell_type": "code",
   "execution_count": 13,
   "id": "b167a0cf",
   "metadata": {},
   "outputs": [],
   "source": [
    "# scale the numerical features\n",
    "from sklearn.preprocessing import StandardScaler\n",
    "sc=StandardScaler()"
   ]
  },
  {
   "cell_type": "code",
   "execution_count": 14,
   "id": "36fb37da",
   "metadata": {},
   "outputs": [],
   "source": [
    "x_scale_train=sc.fit_transform(x_train)\n",
    "x_scale_test=sc.transform(x_test)"
   ]
  },
  {
   "cell_type": "code",
   "execution_count": 15,
   "id": "f5a7dd14",
   "metadata": {},
   "outputs": [],
   "source": [
    "#start the algorithm\n",
    "from sklearn.neighbors import KNeighborsRegressor\n",
    "model = KNeighborsRegressor(n_neighbors=5)"
   ]
  },
  {
   "cell_type": "code",
   "execution_count": 16,
   "id": "875b02d7",
   "metadata": {},
   "outputs": [
    {
     "data": {
      "text/html": [
       "<style>#sk-container-id-1 {color: black;background-color: white;}#sk-container-id-1 pre{padding: 0;}#sk-container-id-1 div.sk-toggleable {background-color: white;}#sk-container-id-1 label.sk-toggleable__label {cursor: pointer;display: block;width: 100%;margin-bottom: 0;padding: 0.3em;box-sizing: border-box;text-align: center;}#sk-container-id-1 label.sk-toggleable__label-arrow:before {content: \"▸\";float: left;margin-right: 0.25em;color: #696969;}#sk-container-id-1 label.sk-toggleable__label-arrow:hover:before {color: black;}#sk-container-id-1 div.sk-estimator:hover label.sk-toggleable__label-arrow:before {color: black;}#sk-container-id-1 div.sk-toggleable__content {max-height: 0;max-width: 0;overflow: hidden;text-align: left;background-color: #f0f8ff;}#sk-container-id-1 div.sk-toggleable__content pre {margin: 0.2em;color: black;border-radius: 0.25em;background-color: #f0f8ff;}#sk-container-id-1 input.sk-toggleable__control:checked~div.sk-toggleable__content {max-height: 200px;max-width: 100%;overflow: auto;}#sk-container-id-1 input.sk-toggleable__control:checked~label.sk-toggleable__label-arrow:before {content: \"▾\";}#sk-container-id-1 div.sk-estimator input.sk-toggleable__control:checked~label.sk-toggleable__label {background-color: #d4ebff;}#sk-container-id-1 div.sk-label input.sk-toggleable__control:checked~label.sk-toggleable__label {background-color: #d4ebff;}#sk-container-id-1 input.sk-hidden--visually {border: 0;clip: rect(1px 1px 1px 1px);clip: rect(1px, 1px, 1px, 1px);height: 1px;margin: -1px;overflow: hidden;padding: 0;position: absolute;width: 1px;}#sk-container-id-1 div.sk-estimator {font-family: monospace;background-color: #f0f8ff;border: 1px dotted black;border-radius: 0.25em;box-sizing: border-box;margin-bottom: 0.5em;}#sk-container-id-1 div.sk-estimator:hover {background-color: #d4ebff;}#sk-container-id-1 div.sk-parallel-item::after {content: \"\";width: 100%;border-bottom: 1px solid gray;flex-grow: 1;}#sk-container-id-1 div.sk-label:hover label.sk-toggleable__label {background-color: #d4ebff;}#sk-container-id-1 div.sk-serial::before {content: \"\";position: absolute;border-left: 1px solid gray;box-sizing: border-box;top: 0;bottom: 0;left: 50%;z-index: 0;}#sk-container-id-1 div.sk-serial {display: flex;flex-direction: column;align-items: center;background-color: white;padding-right: 0.2em;padding-left: 0.2em;position: relative;}#sk-container-id-1 div.sk-item {position: relative;z-index: 1;}#sk-container-id-1 div.sk-parallel {display: flex;align-items: stretch;justify-content: center;background-color: white;position: relative;}#sk-container-id-1 div.sk-item::before, #sk-container-id-1 div.sk-parallel-item::before {content: \"\";position: absolute;border-left: 1px solid gray;box-sizing: border-box;top: 0;bottom: 0;left: 50%;z-index: -1;}#sk-container-id-1 div.sk-parallel-item {display: flex;flex-direction: column;z-index: 1;position: relative;background-color: white;}#sk-container-id-1 div.sk-parallel-item:first-child::after {align-self: flex-end;width: 50%;}#sk-container-id-1 div.sk-parallel-item:last-child::after {align-self: flex-start;width: 50%;}#sk-container-id-1 div.sk-parallel-item:only-child::after {width: 0;}#sk-container-id-1 div.sk-dashed-wrapped {border: 1px dashed gray;margin: 0 0.4em 0.5em 0.4em;box-sizing: border-box;padding-bottom: 0.4em;background-color: white;}#sk-container-id-1 div.sk-label label {font-family: monospace;font-weight: bold;display: inline-block;line-height: 1.2em;}#sk-container-id-1 div.sk-label-container {text-align: center;}#sk-container-id-1 div.sk-container {/* jupyter's `normalize.less` sets `[hidden] { display: none; }` but bootstrap.min.css set `[hidden] { display: none !important; }` so we also need the `!important` here to be able to override the default hidden behavior on the sphinx rendered scikit-learn.org. See: https://github.com/scikit-learn/scikit-learn/issues/21755 */display: inline-block !important;position: relative;}#sk-container-id-1 div.sk-text-repr-fallback {display: none;}</style><div id=\"sk-container-id-1\" class=\"sk-top-container\"><div class=\"sk-text-repr-fallback\"><pre>KNeighborsRegressor()</pre><b>In a Jupyter environment, please rerun this cell to show the HTML representation or trust the notebook. <br />On GitHub, the HTML representation is unable to render, please try loading this page with nbviewer.org.</b></div><div class=\"sk-container\" hidden><div class=\"sk-item\"><div class=\"sk-estimator sk-toggleable\"><input class=\"sk-toggleable__control sk-hidden--visually\" id=\"sk-estimator-id-1\" type=\"checkbox\" checked><label for=\"sk-estimator-id-1\" class=\"sk-toggleable__label sk-toggleable__label-arrow\">KNeighborsRegressor</label><div class=\"sk-toggleable__content\"><pre>KNeighborsRegressor()</pre></div></div></div></div></div>"
      ],
      "text/plain": [
       "KNeighborsRegressor()"
      ]
     },
     "execution_count": 16,
     "metadata": {},
     "output_type": "execute_result"
    }
   ],
   "source": [
    "#train the model\n",
    "model.fit(x_scale_train,y_train)"
   ]
  },
  {
   "cell_type": "code",
   "execution_count": 17,
   "id": "2ca0a00a",
   "metadata": {},
   "outputs": [],
   "source": [
    "predictions=model.predict(x_scale_test)"
   ]
  },
  {
   "cell_type": "code",
   "execution_count": 18,
   "id": "60ba443e",
   "metadata": {},
   "outputs": [
    {
     "data": {
      "text/plain": [
       "array([0.85, 0.25, 0.95, 0.95, 0.74, 0.1 , 0.58, 0.75, 0.57, 0.95, 0.06,\n",
       "       0.25, 0.05, 0.45, 0.1 , 0.1 , 0.85, 0.74, 1.  , 0.45, 0.85, 0.08,\n",
       "       0.05, 0.05, 0.1 , 0.56, 0.25, 0.85, 0.95, 0.73, 1.  , 0.45, 0.95,\n",
       "       0.25, 0.85, 0.56, 0.75, 0.25, 0.45, 0.85, 0.1 , 0.95, 0.56, 1.  ,\n",
       "       0.1 , 0.58, 0.1 , 0.95, 0.95, 0.05, 0.57, 0.45])"
      ]
     },
     "execution_count": 18,
     "metadata": {},
     "output_type": "execute_result"
    }
   ],
   "source": [
    "predictions"
   ]
  },
  {
   "cell_type": "code",
   "execution_count": 19,
   "id": "1e3171e3",
   "metadata": {},
   "outputs": [
    {
     "data": {
      "text/plain": [
       "0.00014423076923076938"
      ]
     },
     "execution_count": 19,
     "metadata": {},
     "output_type": "execute_result"
    }
   ],
   "source": [
    "from sklearn.metrics import mean_squared_error\n",
    "mean_squared_error(y_test,predictions)"
   ]
  },
  {
   "cell_type": "code",
   "execution_count": 20,
   "id": "953779d6",
   "metadata": {},
   "outputs": [],
   "source": [
    "import pickle\n",
    "# Save the trained model\n",
    "with open('model.pkl', 'wb') as f:\n",
    "    pickle.dump(model, f)\n",
    "\n",
    "# Save the standard scaler\n",
    "with open('sc.pkl', 'wb') as f:\n",
    "    pickle.dump(sc, f)\n",
    "    \n",
    "# Load the saved model\n",
    "with open('model.pkl', 'rb') as f:\n",
    "    loaded_model = pickle.load(f)\n",
    "\n",
    "# Load the saved scaler\n",
    "with open('sc.pkl', 'rb') as f:\n",
    "    loaded_scaler = pickle.load(f)   "
   ]
  },
  {
   "cell_type": "code",
   "execution_count": 21,
   "id": "06512af5",
   "metadata": {},
   "outputs": [],
   "source": [
    "import numpy as np\n",
    "new_data=np.array([[1.15,350,220,180,160]])"
   ]
  },
  {
   "cell_type": "code",
   "execution_count": 22,
   "id": "a20710e7",
   "metadata": {},
   "outputs": [
    {
     "data": {
      "text/plain": [
       "array([[  1.15, 350.  , 220.  , 180.  , 160.  ]])"
      ]
     },
     "execution_count": 22,
     "metadata": {},
     "output_type": "execute_result"
    }
   ],
   "source": [
    "new_data"
   ]
  },
  {
   "cell_type": "code",
   "execution_count": 23,
   "id": "244c3afb",
   "metadata": {},
   "outputs": [],
   "source": [
    "new_columns=X.columns.to_list()"
   ]
  },
  {
   "cell_type": "code",
   "execution_count": 24,
   "id": "dce4ff1f",
   "metadata": {},
   "outputs": [],
   "source": [
    "# convert the data into a data frame\n",
    "test_data = pd.DataFrame(new_data, columns=new_columns)"
   ]
  },
  {
   "cell_type": "code",
   "execution_count": 25,
   "id": "2848fe03",
   "metadata": {},
   "outputs": [],
   "source": [
    "# Standardize numerical features using the loaded scaler\n",
    "numerical_features_scaled = loaded_scaler.transform(test_data)"
   ]
  },
  {
   "cell_type": "code",
   "execution_count": 26,
   "id": "d1bd8af2",
   "metadata": {},
   "outputs": [
    {
     "data": {
      "text/plain": [
       "array([[-1.20754896,  0.96094743,  2.02027264,  0.94340354,  1.19253194]])"
      ]
     },
     "execution_count": 26,
     "metadata": {},
     "output_type": "execute_result"
    }
   ],
   "source": [
    "numerical_features_scaled"
   ]
  },
  {
   "cell_type": "code",
   "execution_count": 27,
   "id": "5715fbb2",
   "metadata": {},
   "outputs": [
    {
     "name": "stdout",
     "output_type": "stream",
     "text": [
      "Predictions for new data:\n",
      "[0.1]\n"
     ]
    }
   ],
   "source": [
    "# Make predictions\n",
    "predictions = loaded_model.predict(numerical_features_scaled)\n",
    "print(\"Predictions for new data:\")\n",
    "print(predictions)"
   ]
  },
  {
   "cell_type": "code",
   "execution_count": 28,
   "id": "c994f13d",
   "metadata": {},
   "outputs": [
    {
     "name": "stdout",
     "output_type": "stream",
     "text": [
      "The Degradation level is : 10.0 %\n"
     ]
    }
   ],
   "source": [
    "for val in predictions:\n",
    "    print(\"The Degradation level is :\",val*100,'%')"
   ]
  },
  {
   "cell_type": "code",
   "execution_count": null,
   "id": "70af4f85",
   "metadata": {},
   "outputs": [],
   "source": []
  }
 ],
 "metadata": {
  "kernelspec": {
   "display_name": "Python 3 (ipykernel)",
   "language": "python",
   "name": "python3"
  },
  "language_info": {
   "codemirror_mode": {
    "name": "ipython",
    "version": 3
   },
   "file_extension": ".py",
   "mimetype": "text/x-python",
   "name": "python",
   "nbconvert_exporter": "python",
   "pygments_lexer": "ipython3",
   "version": "3.11.3"
  }
 },
 "nbformat": 4,
 "nbformat_minor": 5
}
